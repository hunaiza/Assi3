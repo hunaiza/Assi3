{
 "cells": [
  {
   "cell_type": "code",
   "execution_count": 1,
   "id": "313fc548",
   "metadata": {},
   "outputs": [
    {
     "name": "stdout",
     "output_type": "stream",
     "text": [
      "Twinkle, twinkle, little star,\n",
      "\tHow I wonder what you are! \n",
      "\t\tUp above the world so high, \n",
      "\t\tLike a diamond in the sky. \n",
      "Twinkle, twinkle, little star, \n",
      "\tHow I wonder what you are!\n"
     ]
    }
   ],
   "source": [
    "print(\"Twinkle, twinkle, little star,\\n\\tHow I wonder what you are! \\n\\t\\tUp above the world so high, \\n\\t\\tLike a diamond in the sky. \\nTwinkle, twinkle, little star, \\n\\tHow I wonder what you are!\")"
   ]
  },
  {
   "cell_type": "code",
   "execution_count": 2,
   "id": "8786034e",
   "metadata": {},
   "outputs": [
    {
     "data": {
      "text/plain": [
       "'3.8.8'"
      ]
     },
     "execution_count": 2,
     "metadata": {},
     "output_type": "execute_result"
    }
   ],
   "source": [
    "from platform import python_version \n",
    "python_version()"
   ]
  },
  {
   "cell_type": "code",
   "execution_count": 3,
   "id": "4ac6ab7c",
   "metadata": {},
   "outputs": [
    {
     "data": {
      "text/plain": [
       "datetime.datetime(2021, 10, 24, 1, 34, 51, 896197)"
      ]
     },
     "execution_count": 3,
     "metadata": {},
     "output_type": "execute_result"
    }
   ],
   "source": [
    "import datetime\n",
    "datetime.datetime.now()"
   ]
  },
  {
   "cell_type": "code",
   "execution_count": 4,
   "id": "e570aa11",
   "metadata": {},
   "outputs": [
    {
     "name": "stdout",
     "output_type": "stream",
     "text": [
      "Enter Radius: 2\n",
      "12.566370614359172\n"
     ]
    }
   ],
   "source": [
    "from math import pi\n",
    "rad = float(input(\"Enter Radius: \"));\n",
    "area = (pi * (rad**2))\n",
    "print(area)"
   ]
  },
  {
   "cell_type": "code",
   "execution_count": 5,
   "id": "7ad992b3",
   "metadata": {},
   "outputs": [
    {
     "name": "stdout",
     "output_type": "stream",
     "text": [
      "Your First Name: Hunaiza\n",
      "Your Last Name: Solanki\n",
      "Your FullName is: Solanki Hunaiza\n"
     ]
    }
   ],
   "source": [
    "fName = input(\"Your First Name: \");\n",
    "lName = input(\"Your Last Name: \");\n",
    "print(\"Your FullName is: \" + lName + \" \" + fName)"
   ]
  },
  {
   "cell_type": "code",
   "execution_count": 7,
   "id": "c902febd",
   "metadata": {},
   "outputs": [
    {
     "name": "stdout",
     "output_type": "stream",
     "text": [
      "1st no: 2\n",
      "2nd no: 2\n",
      "Sum is:  4\n"
     ]
    }
   ],
   "source": [
    "num1 = int(input(\"1st no: \"));\n",
    "num2 = int(input(\"2nd no: \"));\n",
    "print(\"Sum is: \" , num1 + num2)"
   ]
  },
  {
   "cell_type": "code",
   "execution_count": 8,
   "id": "71f9988c",
   "metadata": {},
   "outputs": [
    {
     "name": "stdout",
     "output_type": "stream",
     "text": [
      "Enter marks of the first subject: 80\n",
      "Enter marks of the second subject: 70\n",
      "Enter marks of the third subject: 60\n",
      "Enter marks of the fourth subject: 45\n",
      "Enter marks of the fifth subject: 76\n",
      "Grade: D\n"
     ]
    }
   ],
   "source": [
    "sub1 = int(input(\"Enter marks of the first subject: \"))\n",
    "sub2 = int(input(\"Enter marks of the second subject: \"))\n",
    "sub3 = int(input(\"Enter marks of the third subject: \"))\n",
    "sub4 = int(input(\"Enter marks of the fourth subject: \"))\n",
    "sub5 = int(input(\"Enter marks of the fifth subject: \"))\n",
    "\n",
    "avg = (sub1 + sub2 + sub3 + sub4 + sub5) / 5\n",
    "\n",
    "if(avg >= 90):\n",
    "    print(\"Grade: A\")\n",
    "elif(avg >= 80 and avg < 90):\n",
    "    print(\"Grade: B\")\n",
    "elif(avg >= 70 and avg < 80):\n",
    "    print(\"Grade: C\")\n",
    "elif(avg >= 60 and avg < 70):\n",
    "    print(\"Grade: D\")\n",
    "else:\n",
    "    print(\"Grade: F\")"
   ]
  },
  {
   "cell_type": "code",
   "execution_count": 9,
   "id": "f406051a",
   "metadata": {},
   "outputs": [
    {
     "name": "stdout",
     "output_type": "stream",
     "text": [
      "Enter any no: 5\n",
      "No is Odd\n"
     ]
    }
   ],
   "source": [
    "EOnum = int(input(\"Enter any no: \"))\n",
    "if (EOnum%2):\n",
    "    print(\"No is Odd\")\n",
    "else:\n",
    "    print(\"No is Even\")"
   ]
  },
  {
   "cell_type": "code",
   "execution_count": 10,
   "id": "7e58b87a",
   "metadata": {},
   "outputs": [
    {
     "name": "stdout",
     "output_type": "stream",
     "text": [
      "Number of items in list =  3\n"
     ]
    }
   ],
   "source": [
    "listLength = [1, 2, 3]\n",
    "print (\"Number of items in list = \", len(listLength))"
   ]
  },
  {
   "cell_type": "code",
   "execution_count": 11,
   "id": "851aecfb",
   "metadata": {},
   "outputs": [
    {
     "name": "stdout",
     "output_type": "stream",
     "text": [
      "Sum of all elements in the list =  13\n"
     ]
    }
   ],
   "source": [
    "total  = [4, 4, 1, 2, 2];    \n",
    "print(\"Sum of all elements in the list = \", sum(total));"
   ]
  },
  {
   "cell_type": "code",
   "execution_count": 12,
   "id": "347bfc07",
   "metadata": {},
   "outputs": [
    {
     "name": "stdout",
     "output_type": "stream",
     "text": [
      "Largest element is: 97\n"
     ]
    }
   ],
   "source": [
    "list1 = [89,5,97,85,30,15]\n",
    "list1.sort()\n",
    "print(\"Largest element is:\", list1[-1])"
   ]
  },
  {
   "cell_type": "code",
   "execution_count": 13,
   "id": "710feb15",
   "metadata": {},
   "outputs": [
    {
     "name": "stdout",
     "output_type": "stream",
     "text": [
      "1\n",
      "1\n",
      "2\n",
      "3\n"
     ]
    }
   ],
   "source": [
    "lessNo = [1, 1, 2, 3, 5, 8, 13, 21, 34, 55, 89]\n",
    "for i in lessNo:\n",
    "    if i < 5:\n",
    "        print(i)"
   ]
  },
  {
   "cell_type": "code",
   "execution_count": null,
   "id": "7156d9b0",
   "metadata": {},
   "outputs": [],
   "source": []
  }
 ],
 "metadata": {
  "kernelspec": {
   "display_name": "Python 3",
   "language": "python",
   "name": "python3"
  },
  "language_info": {
   "codemirror_mode": {
    "name": "ipython",
    "version": 3
   },
   "file_extension": ".py",
   "mimetype": "text/x-python",
   "name": "python",
   "nbconvert_exporter": "python",
   "pygments_lexer": "ipython3",
   "version": "3.8.8"
  }
 },
 "nbformat": 4,
 "nbformat_minor": 5
}
